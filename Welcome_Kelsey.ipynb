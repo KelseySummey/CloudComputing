{
  "nbformat": 4,
  "nbformat_minor": 0,
  "metadata": {
    "colab": {
      "name": "Welcome Kelsey.ipynb",
      "provenance": [],
      "authorship_tag": "ABX9TyNPxylxNIaK3vRgyjJCI5le",
      "include_colab_link": true
    },
    "kernelspec": {
      "name": "python3",
      "display_name": "Python 3"
    }
  },
  "cells": [
    {
      "cell_type": "markdown",
      "metadata": {
        "id": "view-in-github",
        "colab_type": "text"
      },
      "source": [
        "<a href=\"https://colab.research.google.com/github/KelseySummey/CloudComputing/blob/master/Welcome_Kelsey.ipynb\" target=\"_parent\"><img src=\"https://colab.research.google.com/assets/colab-badge.svg\" alt=\"Open In Colab\"/></a>"
      ]
    },
    {
      "cell_type": "code",
      "metadata": {
        "id": "Mba4ohYTNj2q",
        "colab_type": "code",
        "outputId": "8263c5a9-cadf-45c6-b0c5-1d2f2244de18",
        "colab": {
          "base_uri": "https://localhost:8080/",
          "height": 35
        }
      },
      "source": [
        "print(\"Welcome Kelsey\")"
      ],
      "execution_count": 0,
      "outputs": [
        {
          "output_type": "stream",
          "text": [
            "Welcome Kelsey\n"
          ],
          "name": "stdout"
        }
      ]
    },
    {
      "cell_type": "code",
      "metadata": {
        "id": "i85xkB_9OVyO",
        "colab_type": "code",
        "colab": {}
      },
      "source": [
        "#Proof I can log QwikLabs!"
      ],
      "execution_count": 0,
      "outputs": []
    },
    {
      "cell_type": "markdown",
      "metadata": {
        "id": "P4pgTHSHYcfg",
        "colab_type": "text"
      },
      "source": [
        "![alt text](https://user-images.githubusercontent.com/60293830/73123615-c4895900-3f5f-11ea-93a9-6244eb295846.png)"
      ]
    },
    {
      "cell_type": "code",
      "metadata": {
        "id": "KO7aGHiTYpBn",
        "colab_type": "code",
        "colab": {}
      },
      "source": [
        ""
      ],
      "execution_count": 0,
      "outputs": []
    }
  ]
}